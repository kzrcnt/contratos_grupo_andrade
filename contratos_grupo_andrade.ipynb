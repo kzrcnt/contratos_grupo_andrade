{
 "cells": [
  {
   "cell_type": "markdown",
   "id": "a0b373a7-d1fa-4cf8-968e-d11b0efefddf",
   "metadata": {},
   "source": [
    "# Los clientes predilectos de Grupo Andrade\n",
    "\n",
    "## Introducción\n",
    "\n",
    "Esto es un análisis de datos elaborado con Python. Su objetivo es determinar cuáles son las instituciones del gobierno mexicano que otorgaron la mayor cantidad de contratos a empresas de Grupo Andrade. \n",
    "\n",
    "Grupo Andrade es un grupo empresarial mexicano mayormente conformado por agencias de vehículos de diversas marcas (Ford, Chevrolet, Dodge, BYD, etc.). Sus principales negocios son la venta y arrendamiento de vehículos. El grupo también es dueño de Heraldo Media Group, un conglomerado mediático  que incluye al diario *El Heraldo de México*. \n",
    "\n",
    "Por más de una década, Grupo Andrade ha sido señalado en varios reportes de prensa por recibir contratos públicos por montos que ascienden a los cientos o incluso los miles de millones de pesos. \n",
    "\n",
    "Dado que el gobierno mexicano no es ajeno al compadrismo, la cantidad de contratos públicos y el dinero recibido por empresas del Grupo Andrade ha encendido focos rojos. "
   ]
  },
  {
   "cell_type": "markdown",
   "id": "529b3c5e-b203-46a1-bff0-06a700ce133d",
   "metadata": {},
   "source": [
    "## Preparando el análisis\n",
    "Antes de realizar el análisis, fue necesario importar las bibliotecas pertinentes (Pandas, en este caso). \n",
    "\n",
    "pd.pptions.display.float_format se utilizó para mostar los importes por contrato sin decimales. "
   ]
  },
  {
   "cell_type": "code",
   "execution_count": 1,
   "id": "086532e1-ea42-4245-a66b-9f65b1125f45",
   "metadata": {},
   "outputs": [],
   "source": [
    "import pandas as pd\n",
    "pd.options.display.float_format = '{:.0f}'.format"
   ]
  },
  {
   "cell_type": "markdown",
   "id": "0e033b9c-5188-4bab-af3a-a0ffad236ed2",
   "metadata": {},
   "source": [
    "También se armó una lista con los nombres de empresas pertenecientes a Grupo Andrade.\n",
    "\n",
    "Los nombres provienen de la página de [Aspectos Legales](https://www.grupoandrade.com/Informacion/AspectosLegales) del grupo empresarial. Integra Arrenda es la única excepción. \n",
    "\n",
    "Esta lista no es exhaustiva, en cuanto a las empresas pertenecientes a Grupo Andrade se refiere. No incluimos a compañías de Heraldo Media Group, por ejemplo, y es casi seguro de que la lista de agencias de autos y arrendadoras bajo el paraguas de Grupo Andrade es aún más larga.\n",
    "\n",
    "Todos los nombres se repiten, y algunos más de una vez, debido a que Python distingue entre mayúsculas y minúsculas, y cuenta espacios vacíos y signos de puntuación como caracteres. Es decir, los strings \"XYZ\", \"xyz\", \",xyz\" y \" xyz\" serían considerados distintos.    "
   ]
  },
  {
   "cell_type": "code",
   "execution_count": 2,
   "id": "053c1899-fd11-43b8-b0d8-7b5a9f2654bc",
   "metadata": {},
   "outputs": [],
   "source": [
    "grupo_andrade = ['ANGAR AZCAPOTZALCO SA DE CV', 'Angar Azcapotzalco SA de CV',\n",
    "'ANGAR AZCAPOTZALCO', 'Angar Azcapotzalco',\n",
    "'DISTRIBUIDORA DE VEHICULOS GA DE MX SA de CV', 'Distribuidora de Vehiculos GA de Mx SA de CV',\n",
    "'AUTOANGAR SA DE CV', 'Autoangar SA de CV',\n",
    "'AUTOMOVILISTICA ANDRADE SA DE CV', 'Automovilistica Andrade SA de CV',\n",
    "'Andrade Universidad SA de CV', 'ANDRADE UNIVERSIDAD SA DE CV',\n",
    "'Distribuidora de Vehiculos Coreanos Andrade SA de CV', 'DISTRIBUIDORA DE VEHICULOS COREANOS ANDRADE SA DE CV',\n",
    "'Distribuidora Lomas Anahuac SA de CV','DISTRIBUIDORA LOMAS ANAHUAC SA DE CV',       \n",
    "'Zaragoza Motriz SA de CV','ZARAGOZA MOTRIZ SA DE CV',\n",
    "'Camiones Repuestos y Accesorios SA de CV', 'CAMIONES REPUESTOS Y ACCESORIOS SA DE CV',\n",
    "'Camiones, Repuestos y Accesorios SA DE CV','CAMIONES, REPUESTOS Y ACCESORIOS SA DE CV',\n",
    "'Andrade Zaragoza SA de CV', 'ANDRADE ZARAGOZA SA DE CV',\n",
    "'Andrade Comercializadora Vehicular SA de CV', 'ANDRADE COMERCIALIZADORA VEHICULAR SA DE CV',\n",
    "'Andrade Distribuidora Automotriz Chinos SA de CV', 'ANDRADE DISTRIBUIDORA AUTOMOTRIZ CHINOS SA DE CV',\n",
    "'Distribuidora de Vehículos GA de México S.A. de C.V', 'DISTRIBUIDORA DE VEHÍCULOS GA DE MÉXICO S.A. DE C.V.',\n",
    "'Comercializadora Vehicular Huixquilucan, S.A. de C.V.', 'COMERCIALIZADORA VEHICULAR HUIXQUILUCAN, S.A. DE C.V.',\n",
    "'INTEGRA ARRENDA SA DE CV SOFOM ENR']"
   ]
  },
  {
   "cell_type": "markdown",
   "id": "f900c5f6-4ecb-446b-bcef-b62572a40c83",
   "metadata": {},
   "source": [
    "Toda la información de contratos fue extraída de la página de datos abiertos de [Compras MX](https://comprasmx.buengobierno.gob.mx/datos-abiertos#datos_relevantes_de_los_contratos_ingresados_a_la_plataforma) en formato CSV.\n",
    "\n",
    "Para los contratos de 2025 y 2024, se utilizaron los archivos de la Plataforma Integral de Compranet. Para los de 2010 a 2023, se usaron los de Compranet 5.0. Los contratos de los años 2010, 2011 y 2012 venían incluidos en un mismo archivo, así que se procesaron como un único DF.\n",
    "\n",
    "Cada uno de estos archivos fue transformado en un dataframe con pd.read_csv().\n",
    "\n",
    "Los argumentos (encoding='ISO-8859-1',low_memory=False y on_bad_lines='skip') se incluyeron para evitar errores.\n",
    "\n",
    "Ya que cada archivo fue transformado, todos los DFs fueron incluidos en la lista \"contratos\"."
   ]
  },
  {
   "cell_type": "code",
   "execution_count": 3,
   "id": "d0c1c348-4c99-476f-88ce-cbf82f54668a",
   "metadata": {
    "scrolled": true
   },
   "outputs": [],
   "source": [
    "#Conversión de CSVs de contratos ComprasMX a dfs.\n",
    "contratos_2025 = pd.read_csv(r'[file_path]', encoding='ISO-8859-1', low_memory=False)\n",
    "contratos_2024 = pd.read_csv(r'[file_path]', encoding='ISO-8859-1',low_memory=False)\n",
    "contratos_2023 = pd.read_csv(r'[file_path]', encoding='ISO-8859-1',low_memory=False)\n",
    "contratos_2022 = pd.read_csv(r'[file_path]', encoding='ISO-8859-1',low_memory=False)\n",
    "contratos_2021 = pd.read_csv(r'[file_path]', encoding='ISO-8859-1',low_memory=False)\n",
    "contratos_2020 = pd.read_csv(r'[file_path]', encoding='ISO-8859-1',low_memory=False)\n",
    "contratos_2019 = pd.read_csv(r'[file_path]', encoding='ISO-8859-1',low_memory=False)\n",
    "contratos_2018 = pd.read_csv(r'[file_path]', encoding='ISO-8859-1',low_memory=False)\n",
    "contratos_2017 = pd.read_csv(r'[file_path]', encoding='ISO-8859-1',low_memory=False, on_bad_lines='skip')\n",
    "contratos_2016 = pd.read_csv(r'[file_path]', encoding='ISO-8859-1',low_memory=False, on_bad_lines='skip')\n",
    "contratos_2015 = pd.read_csv(r'[file_path]', encoding='ISO-8859-1',low_memory=False, on_bad_lines='skip')\n",
    "contratos_2014 = pd.read_csv(r'[file_path]', encoding='ISO-8859-1',low_memory=False, on_bad_lines='skip')\n",
    "contratos_2013 = pd.read_csv(r'[file_path]', encoding='ISO-8859-1',low_memory=False, on_bad_lines='skip')\n",
    "contratos_2010_11_12 = pd.read_csv(r'[file_path]', encoding='ISO-8859-1',low_memory=False, on_bad_lines='skip')"
   ]
  },
  {
   "cell_type": "code",
   "execution_count": 4,
   "id": "9c8cea9c-33f1-4c8f-8c7e-346fb2971be9",
   "metadata": {},
   "outputs": [],
   "source": [
    "#Lista de dfs de contratos ComprasMX por año\n",
    "contratos = [contratos_2025, contratos_2024, contratos_2023, contratos_2022, contratos_2021, contratos_2020,\n",
    "             contratos_2019, contratos_2018, contratos_2017, contratos_2016,\n",
    "             contratos_2015, contratos_2014, contratos_2013, contratos_2010_11_12]"
   ]
  },
  {
   "cell_type": "markdown",
   "id": "fd4ea55d-af8f-4281-85ef-fad09681146c",
   "metadata": {},
   "source": [
    "### Limpieza\n",
    "Fue necesario modificar los DFs para poder unificarlos. \n",
    "\n",
    "Primero se utilizaron un par de loops para renombrar columnas en los DFs de 2010 a 2022. Por conveniencia, los nombres nuevos son los utilizados en los DFs de 2023, 2024 y 2025."
   ]
  },
  {
   "cell_type": "code",
   "execution_count": 5,
   "id": "11cb24de-d53b-4712-9179-0a91d585feaa",
   "metadata": {},
   "outputs": [],
   "source": [
    "#Loop para modificación de columnas de dfs (2017-2022)\n",
    "for i in range(3,9):\n",
    "     contratos[i] = contratos[i].rename(columns={'Tipo de procedimiento':'Tipo Procedimiento', \n",
    "'Núm. de control del contrato':'Núm del contrato',\n",
    "'Importe del contrato':'Importe DRC',\n",
    "'Moneda del contrato':'Moneda',\n",
    "'RFC':'rfc',\n",
    "'Clave del país de la empresa':'País de la empresa',\n",
    "'Estratificación de la empresa':'Estratificación',}\n",
    "                                       )"
   ]
  },
  {
   "cell_type": "code",
   "execution_count": 6,
   "id": "57f28af7-f8cf-4e34-9ccd-235c743ddde1",
   "metadata": {},
   "outputs": [],
   "source": [
    "#Loop para modificación de columnas de dfs (2010-2016)\n",
    "for i in range(8,len(contratos)):\n",
    "     contratos[i] = contratos[i].rename(columns={'SIGLAS':'Siglas de la Institución', \n",
    "'CLAVEUC':'Clave de la UC', \n",
    "'NOMBRE_DE_LA_UC':'Nombre de la UC',\n",
    "'TIPO_PROCEDIMIENTO':'Tipo Procedimiento',\n",
    "'TITULO_CONTRATO': 'Título del contrato',\n",
    "'CODIGO_CONTRATO':'Código del contrato',\n",
    "'IMPORTE_CONTRATO':'Importe DRC',\n",
    "'MONEDA':'Moneda',\n",
    "'PROVEEDOR_CONTRATISTA':'Proveedor o contratista',\n",
    "'ESTRATIFICACION_MPC':'Estratificación',\n",
    "'SIGLAS_PAIS':'País de la empresa',\n",
    "'ANUNCIO':'Dirección del anuncio'}\n",
    "                                       )"
   ]
  },
  {
   "cell_type": "markdown",
   "id": "77e981ef-38fe-4615-887c-9fa191c8ed31",
   "metadata": {},
   "source": [
    "Un tercer loop se utilizó para modificar todos los DFs en la lista \"contratos\", dejando únicamente las siguientes columnas:\n",
    "\n",
    "- **Siglas de la Institución**: Nombre en siglas de la institución de gobierno que emite el contrato.\n",
    "- **Clave de la UC & Nombre de la UC**: Clave y nombre de la Unidad Compradora\n",
    "- **Tipo de Procedimiento**: Indica si el contrato se realizó por adjudicación directa, licitación pública o cualquiera de sus variantes.\n",
    "- **Código del contrato & Título del contrato**: Identificadores del contrato\n",
    "- **Importe DRC**: Importe del contrato antes de impuestos. Se utilizó esta columna debido a que no todos los contratos especificaban el monto total más impuestos. \n",
    "- **Moneda**: Denominación en la que se pagó el contrato. La gran mayoría, si no es que todos los contratos, se pagaron en pesos mexicanos (MXN).\n",
    "- **Proveedor o contratista**: Nombre de la empresa que recibió el contrato.\n",
    "- **País de la empresa**: Clave que identifica al país de origen de la empresa. \n",
    "- **Estratificación**: Tamaño de la empresa (pequeña, grande, mediana, etc.)\n",
    "- **Dirección del anuncio**: URL del anuncio del contrato en Compras MX.\n",
    "\n",
    "El cuarto y último loop se usó para añadir una columna de \"Año\" a cada DF. "
   ]
  },
  {
   "cell_type": "code",
   "execution_count": 7,
   "id": "51155bf6-820e-40d3-8a7c-5155fa6efcc5",
   "metadata": {},
   "outputs": [],
   "source": [
    "#Loop para modificación de columnas de dfs en contratos\n",
    "for i in range(0,len(contratos)):\n",
    "    contratos[i] = contratos[i][['Siglas de la Institución', 'Clave de la UC', 'Nombre de la UC',\n",
    "'Tipo Procedimiento', 'Código del contrato', \n",
    "'Título del contrato', 'Importe DRC', \n",
    "'Moneda', 'Proveedor o contratista', 'País de la empresa', \n",
    "'Estratificación', 'Dirección del anuncio']]"
   ]
  },
  {
   "cell_type": "code",
   "execution_count": 8,
   "id": "8803d235-82ea-40ee-821b-b2e063b3bdb3",
   "metadata": {
    "scrolled": true
   },
   "outputs": [
    {
     "name": "stderr",
     "output_type": "stream",
   "source": [
    "#Añadir columna \"Años\" a dfs en lista contratos\n",
    "años = list(range(2025, 2011, -1))\n",
    "\n",
    "for df, año in zip(contratos, años):\n",
    "    df['Año'] = año"
   ]
  },
  {
   "cell_type": "markdown",
   "id": "acadd08a-da26-41f7-aca5-0e019f958b11",
   "metadata": {},
   "source": [
    "Con el formato de cada DF en \"contratos\" acorde a lo conveniente, todos se apilaron utilizando pd.concat()."
   ]
  },
  {
   "cell_type": "code",
   "execution_count": 19,
   "id": "354e63c1-66f0-4a23-ba74-8dafcf2a926a",
   "metadata": {},
   "outputs": [],
   "source": [
    "#Stack de todos los dfs en contratos\n",
    "contratos_stack = pd.concat(contratos, axis=0)"
   ]
  },
  {
   "cell_type": "markdown",
   "id": "158ed3c7-59de-4924-bc52-0ef9217cd76c",
   "metadata": {},
   "source": [
    "Finalmente, el DF con todos los contratos (asignado a la variable \"contratos_stack\") fue modificado para que todas las empresas pertenecientes a Grupo Andrade fueran identificadas en la columna \"Proveedor o contratista\" con el nombre de \"GRUPO ANDRADE\".\n",
    "\n",
    "La modificación se realizó con una función propia (filtro_andrade()). "
   ]
  },
  {
   "cell_type": "code",
   "execution_count": 20,
   "id": "c71eab7c-ecb1-44bf-a82c-17fb1e73d340",
   "metadata": {},
   "outputs": [],
   "source": [
    "#Función para incorporar empresas de Grupo Andrade bajo mismo nombre\n",
    "def filtro_andrade(df, lista, nuevo):\n",
    "    for valor in df['Proveedor o contratista']:\n",
    "        if valor in grupo_andrade:\n",
    "            df['Proveedor o contratista'] = df['Proveedor o contratista'].str.replace(pat=valor,\n",
    "                                                                                      repl=nuevo,\n",
    "                                                                                      regex=False)"
   ]
  },
  {
   "cell_type": "markdown",
   "id": "6d22cb56-4b92-41e4-b972-22eb0f747705",
   "metadata": {},
   "source": [
    "filtro_andrade() se aplicó a contratos_stack. El resultado se asignó a una nueva variable \"contratos_stack_andrade\", que es la versión de contratos_stack en la que todas las empresas incluidas en la lista \"grupo_andrade\" son identificadas como \"GRUPO ANDRADE\". "
   ]
  },
  {
   "cell_type": "code",
   "execution_count": 21,
   "id": "970c8b73-8bb2-428a-80aa-1e5326fae151",
   "metadata": {},
   "outputs": [],
   "source": [
    "filtro_andrade(contratos_stack, grupo_andrade, 'GRUPO ANDRADE')"
   ]
  },
  {
   "cell_type": "code",
   "execution_count": 24,
   "id": "43407921-40a3-4c70-8419-8ebb65fa1b6d",
   "metadata": {},
   "outputs": [
    {
     "data": {
      "text/html": [
       "<div>\n",
       "<style scoped>\n",
       "    .dataframe tbody tr th:only-of-type {\n",
       "        vertical-align: middle;\n",
       "    }\n",
       "\n",
       "    .dataframe tbody tr th {\n",
       "        vertical-align: top;\n",
       "    }\n",
       "\n",
       "    .dataframe thead th {\n",
       "        text-align: right;\n",
       "    }\n",
       "</style>\n",
       "<table border=\"1\" class=\"dataframe\">\n",
       "  <thead>\n",
       "    <tr style=\"text-align: right;\">\n",
       "      <th></th>\n",
       "      <th>Siglas de la Institución</th>\n",
       "      <th>Clave de la UC</th>\n",
       "      <th>Nombre de la UC</th>\n",
       "      <th>Tipo Procedimiento</th>\n",
       "      <th>Código del contrato</th>\n",
       "      <th>Título del contrato</th>\n",
       "      <th>Importe DRC</th>\n",
       "      <th>Moneda</th>\n",
       "      <th>Proveedor o contratista</th>\n",
       "      <th>País de la empresa</th>\n",
       "      <th>Estratificación</th>\n",
       "      <th>Dirección del anuncio</th>\n",
       "      <th>Año</th>\n",
       "    </tr>\n",
       "  </thead>\n",
       "  <tbody>\n",
       "    <tr>\n",
       "      <th>335</th>\n",
       "      <td>IMSS</td>\n",
       "      <td>050GYR019</td>\n",
       "      <td>DA-UADQ-CABCS-DCAL</td>\n",
       "      <td>LICITACIÓN PÚBLICA</td>\n",
       "      <td>C-2025-00001091</td>\n",
       "      <td>ARRENDAMIENTO DE AMBULANCIAS 2025, 2026, 2027 ...</td>\n",
       "      <td>2805321600</td>\n",
       "      <td>MXN</td>\n",
       "      <td>GRUPO ANDRADE</td>\n",
       "      <td>MX</td>\n",
       "      <td>GRANDE</td>\n",
       "      <td>https://comprasmx.buengobierno.gob.mx/sitiopub...</td>\n",
       "      <td>2025</td>\n",
       "    </tr>\n",
       "    <tr>\n",
       "      <th>336</th>\n",
       "      <td>ISSSTE</td>\n",
       "      <td>051GYN005</td>\n",
       "      <td>SUBDIRECCION DE RECURSOS MATERIALES Y SERVICIOS</td>\n",
       "      <td>ADJUDICACIÓN DIRECTA POR ADJUDICACIÓN A PROVEE...</td>\n",
       "      <td>C-2025-00001386</td>\n",
       "      <td>SERVICIO DE ARRENDAMIENTO DE TRANSPORTE VEHICU...</td>\n",
       "      <td>268814762</td>\n",
       "      <td>MXN</td>\n",
       "      <td>GRUPO ANDRADE</td>\n",
       "      <td>MX</td>\n",
       "      <td>GRANDE</td>\n",
       "      <td>https://comprasmx.buengobierno.gob.mx/sitiopub...</td>\n",
       "      <td>2025</td>\n",
       "    </tr>\n",
       "    <tr>\n",
       "      <th>337</th>\n",
       "      <td>FIT</td>\n",
       "      <td>013J3L001</td>\n",
       "      <td>GERENCIA DE ADQUISICIONES, RECURSOS MATERIALES...</td>\n",
       "      <td>LICITACIÓN PÚBLICA</td>\n",
       "      <td>C-2025-00002806</td>\n",
       "      <td>SERVICIO DE ARRENDAMIENTO DE TRANSPORTE TERRES...</td>\n",
       "      <td>78435000</td>\n",
       "      <td>MXN</td>\n",
       "      <td>GRUPO ANDRADE</td>\n",
       "      <td>MX</td>\n",
       "      <td>GRANDE</td>\n",
       "      <td>https://comprasmx.buengobierno.gob.mx/sitiopub...</td>\n",
       "      <td>2025</td>\n",
       "    </tr>\n",
       "  </tbody>\n",
       "</table>\n",
       "</div>"
      ],
      "text/plain": [
       "    Siglas de la Institución Clave de la UC  \\\n",
       "335                     IMSS      050GYR019   \n",
       "336                   ISSSTE      051GYN005   \n",
       "337                      FIT      013J3L001   \n",
       "\n",
       "                                       Nombre de la UC  \\\n",
       "335                                 DA-UADQ-CABCS-DCAL   \n",
       "336    SUBDIRECCION DE RECURSOS MATERIALES Y SERVICIOS   \n",
       "337  GERENCIA DE ADQUISICIONES, RECURSOS MATERIALES...   \n",
       "\n",
       "                                    Tipo Procedimiento Código del contrato  \\\n",
       "335                                 LICITACIÓN PÚBLICA     C-2025-00001091   \n",
       "336  ADJUDICACIÓN DIRECTA POR ADJUDICACIÓN A PROVEE...     C-2025-00001386   \n",
       "337                                 LICITACIÓN PÚBLICA     C-2025-00002806   \n",
       "\n",
       "                                   Título del contrato  Importe DRC Moneda  \\\n",
       "335  ARRENDAMIENTO DE AMBULANCIAS 2025, 2026, 2027 ...   2805321600    MXN   \n",
       "336  SERVICIO DE ARRENDAMIENTO DE TRANSPORTE VEHICU...    268814762    MXN   \n",
       "337  SERVICIO DE ARRENDAMIENTO DE TRANSPORTE TERRES...     78435000    MXN   \n",
       "\n",
       "    Proveedor o contratista País de la empresa Estratificación  \\\n",
       "335           GRUPO ANDRADE                 MX          GRANDE   \n",
       "336           GRUPO ANDRADE                 MX          GRANDE   \n",
       "337           GRUPO ANDRADE                 MX          GRANDE   \n",
       "\n",
       "                                 Dirección del anuncio   Año  \n",
       "335  https://comprasmx.buengobierno.gob.mx/sitiopub...  2025  \n",
       "336  https://comprasmx.buengobierno.gob.mx/sitiopub...  2025  \n",
       "337  https://comprasmx.buengobierno.gob.mx/sitiopub...  2025  "
      ]
     },
     "execution_count": 24,
     "metadata": {},
     "output_type": "execute_result"
    }
   ],
   "source": [
    "contratos_stack_andrade = contratos_stack.loc[contratos_stack['Proveedor o contratista'] == 'GRUPO ANDRADE']\n",
    "contratos_stack_andrade.head(3)"
   ]
  },
  {
   "cell_type": "markdown",
   "id": "32cdcd41-d031-4bb0-9337-ecdaa8d0fdce",
   "metadata": {},
   "source": [
    "## Análisis\n",
    "El análisis en sí se realizó en dos partes: el primero identifica a las entidades de gobierno que otorgaron la mayor cantidad de dinero a Grupo Andrade entre 2010 y 2025. La segunda parte hace un análisis similar, pero contando el número de contratos. \n",
    "\n",
    "Ambos análisis se realizaron con .groupby() y .agg() aplicados a las columnas de \"Proveedor o contratista\", \"Siglas de la Institución\" e \"Importe DRC\". "
   ]
  },
  {
   "cell_type": "code",
   "execution_count": 25,
   "id": "e80414ef-8e6f-4b53-ad0d-6b7871262839",
   "metadata": {},
   "outputs": [
    {
     "data": {
      "text/html": [
       "<div>\n",
       "<style scoped>\n",
       "    .dataframe tbody tr th:only-of-type {\n",
       "        vertical-align: middle;\n",
       "    }\n",
       "\n",
       "    .dataframe tbody tr th {\n",
       "        vertical-align: top;\n",
       "    }\n",
       "\n",
       "    .dataframe thead th {\n",
       "        text-align: right;\n",
       "    }\n",
       "</style>\n",
       "<table border=\"1\" class=\"dataframe\">\n",
       "  <thead>\n",
       "    <tr style=\"text-align: right;\">\n",
       "      <th></th>\n",
       "      <th>Proveedor o contratista</th>\n",
       "      <th>Siglas de la Institución</th>\n",
       "      <th>Importe DRC</th>\n",
       "    </tr>\n",
       "  </thead>\n",
       "  <tbody>\n",
       "    <tr>\n",
       "      <th>0</th>\n",
       "      <td>GRUPO ANDRADE</td>\n",
       "      <td>SEDENA</td>\n",
       "      <td>5894629375</td>\n",
       "    </tr>\n",
       "    <tr>\n",
       "      <th>1</th>\n",
       "      <td>GRUPO ANDRADE</td>\n",
       "      <td>IMSS</td>\n",
       "      <td>4241869510</td>\n",
       "    </tr>\n",
       "    <tr>\n",
       "      <th>2</th>\n",
       "      <td>GRUPO ANDRADE</td>\n",
       "      <td>BIENESTAR</td>\n",
       "      <td>3641577670</td>\n",
       "    </tr>\n",
       "    <tr>\n",
       "      <th>3</th>\n",
       "      <td>GRUPO ANDRADE</td>\n",
       "      <td>CAPUFE</td>\n",
       "      <td>1270088189</td>\n",
       "    </tr>\n",
       "    <tr>\n",
       "      <th>4</th>\n",
       "      <td>GRUPO ANDRADE</td>\n",
       "      <td>ISSSTE</td>\n",
       "      <td>1089401934</td>\n",
       "    </tr>\n",
       "  </tbody>\n",
       "</table>\n",
       "</div>"
      ],
      "text/plain": [
       "  Proveedor o contratista Siglas de la Institución  Importe DRC\n",
       "0           GRUPO ANDRADE                   SEDENA   5894629375\n",
       "1           GRUPO ANDRADE                     IMSS   4241869510\n",
       "2           GRUPO ANDRADE                BIENESTAR   3641577670\n",
       "3           GRUPO ANDRADE                   CAPUFE   1270088189\n",
       "4           GRUPO ANDRADE                   ISSSTE   1089401934"
      ]
     },
     "execution_count": 25,
     "metadata": {},
     "output_type": "execute_result"
    }
   ],
   "source": [
    "#GroupBy de todos los contratos con Grupo Andrade por institución y monto de contrato.\n",
    "andrade_compradores_principales = contratos_stack_andrade.groupby(['Proveedor o contratista', 'Siglas de la Institución']).agg({'Importe DRC':'sum'}).sort_values(by='Importe DRC', ascending=False)                       \n",
    "andrade_compradores_principales.columns = ['Importe DRC']\n",
    "andrade_compradores_principales = andrade_compradores_principales.reset_index()\n",
    "andrade_compradores_principales.head()                                                         "
   ]
  },
  {
   "cell_type": "markdown",
   "id": "b1732386-08d8-4e4f-b430-cb478e66f84b",
   "metadata": {},
   "source": [
    "La Secretaría de la Defensa Nacional (SEDENA) fue la institución de gobierno que más dinero otorgó a Grupo Andrade por contratos públicos (más de 5 mil 894 mdp).\n",
    "\n",
    "Si se cuentan los montos otorgados por SEDENA, Guardia Nacional y Banejército (estos dos últimos contados como entidades distintas), la cantidad de dinero entregado por el Ejército Mexicano a Grupo Andrade supera los 6 mil mdp."
   ]
  },
  {
   "cell_type": "code",
   "execution_count": 26,
   "id": "cd0c0c12-69ba-4f03-90cc-bc55f27e4194",
   "metadata": {
    "scrolled": true
   },
   "outputs": [
    {
     "data": {
      "text/html": [
       "<div>\n",
       "<style scoped>\n",
       "    .dataframe tbody tr th:only-of-type {\n",
       "        vertical-align: middle;\n",
       "    }\n",
       "\n",
       "    .dataframe tbody tr th {\n",
       "        vertical-align: top;\n",
       "    }\n",
       "\n",
       "    .dataframe thead th {\n",
       "        text-align: right;\n",
       "    }\n",
       "</style>\n",
       "<table border=\"1\" class=\"dataframe\">\n",
       "  <thead>\n",
       "    <tr style=\"text-align: right;\">\n",
       "      <th></th>\n",
       "      <th>Proveedor o contratista</th>\n",
       "      <th>Siglas de la Institución</th>\n",
       "      <th>Conteo Contratos</th>\n",
       "    </tr>\n",
       "  </thead>\n",
       "  <tbody>\n",
       "    <tr>\n",
       "      <th>66</th>\n",
       "      <td>GRUPO ANDRADE</td>\n",
       "      <td>SEDENA</td>\n",
       "      <td>42</td>\n",
       "    </tr>\n",
       "    <tr>\n",
       "      <th>54</th>\n",
       "      <td>GRUPO ANDRADE</td>\n",
       "      <td>ISSSTE</td>\n",
       "      <td>8</td>\n",
       "    </tr>\n",
       "    <tr>\n",
       "      <th>19</th>\n",
       "      <td>GRUPO ANDRADE</td>\n",
       "      <td>CONAGUA</td>\n",
       "      <td>8</td>\n",
       "    </tr>\n",
       "    <tr>\n",
       "      <th>13</th>\n",
       "      <td>GRUPO ANDRADE</td>\n",
       "      <td>CFE</td>\n",
       "      <td>8</td>\n",
       "    </tr>\n",
       "    <tr>\n",
       "      <th>9</th>\n",
       "      <td>GRUPO ANDRADE</td>\n",
       "      <td>CAPUFE</td>\n",
       "      <td>7</td>\n",
       "    </tr>\n",
       "  </tbody>\n",
       "</table>\n",
       "</div>"
      ],
      "text/plain": [
       "   Proveedor o contratista Siglas de la Institución  Conteo Contratos\n",
       "66           GRUPO ANDRADE                   SEDENA                42\n",
       "54           GRUPO ANDRADE                   ISSSTE                 8\n",
       "19           GRUPO ANDRADE                  CONAGUA                 8\n",
       "13           GRUPO ANDRADE                      CFE                 8\n",
       "9            GRUPO ANDRADE                   CAPUFE                 7"
      ]
     },
     "execution_count": 26,
     "metadata": {},
     "output_type": "execute_result"
    }
   ],
   "source": [
    "#GroupBy de todos los contratos con Grupo Andrade por institución y número de contratos\n",
    "andrade_compradores_conteo = contratos_stack_andrade.groupby(['Proveedor o contratista', 'Siglas de la Institución']).agg({'Siglas de la Institución':'count'})\n",
    "andrade_compradores_conteo.columns = ['Conteo Contratos']\n",
    "andrade_compradores_conteo = andrade_compradores_conteo.reset_index()\n",
    "andrade_compradores_conteo = andrade_compradores_conteo.sort_values(by ='Conteo Contratos', ascending=False)\n",
    "andrade_compradores_conteo.head()"
   ]
  },
  {
   "cell_type": "markdown",
   "id": "a9a5ae24-f994-403e-9930-0c15e801cdf5",
   "metadata": {},
   "source": [
    "SEDENA también fue la entidad que más contratos entregó a Grupo Andrade, y por mucho. Como puede verse en la tabla de arriba, SEDENA entregó 42 contratos a empresas de Grupo Andrade entre 2010 y 2025. Esto supera el número de contratos otorgados por el ISSSTE, CONAGUA y CFE en conjunto."
   ]
  }
 ],
 "metadata": {
  "kernelspec": {
   "display_name": "Python 3 (ipykernel)",
   "language": "python",
   "name": "python3"
  },
  "language_info": {
   "codemirror_mode": {
    "name": "ipython",
    "version": 3
   },
   "file_extension": ".py",
   "mimetype": "text/x-python",
   "name": "python",
   "nbconvert_exporter": "python",
   "pygments_lexer": "ipython3",
   "version": "3.12.3"
  }
 },
 "nbformat": 4,
 "nbformat_minor": 5
}
